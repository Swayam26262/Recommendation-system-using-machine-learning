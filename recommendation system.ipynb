{
 "cells": [
  {
   "cell_type": "markdown",
   "id": "63c96349-8884-4328-b500-448d19627be5",
   "metadata": {},
   "source": [
    "## Import necessary libraries"
   ]
  },
  {
   "cell_type": "code",
   "execution_count": 6,
   "id": "1d5e9148-4e58-42ff-b5f7-d93259d5bee7",
   "metadata": {},
   "outputs": [],
   "source": [
    "import numpy as np\n",
    "import pandas as pd\n",
    "from scipy.sparse import csr_matrix\n",
    "from sklearn.neighbors import NearestNeighbors\n"
   ]
  },
  {
   "cell_type": "markdown",
   "id": "51d13402-cb0d-4296-9d27-2390ba599dd0",
   "metadata": {},
   "source": [
    "## Function to create user-item matrix"
   ]
  },
  {
   "cell_type": "code",
   "execution_count": 7,
   "id": "43e7683f-860a-4614-8940-772b50405778",
   "metadata": {},
   "outputs": [],
   "source": [
    "def create_matrix(df):\n",
    "    N = len(df['userId'].unique())\n",
    "    M = len(df['movieId'].unique())\n",
    "    \n",
    "    # Map Ids to indices\n",
    "    user_mapper = dict(zip(np.unique(df[\"userId\"]), list(range(N))))\n",
    "    movie_mapper = dict(zip(np.unique(df[\"movieId\"]), list(range(M))))\n",
    "    \n",
    "    # Map indices to IDs\n",
    "    user_inv_mapper = dict(zip(list(range(N)), np.unique(df[\"userId\"])))\n",
    "    movie_inv_mapper = dict(zip(list(range(M)), np.unique(df[\"movieId\"])))\n",
    "    \n",
    "    user_index = [user_mapper[i] for i in df['userId']]\n",
    "    movie_index = [movie_mapper[i] for i in df['movieId']]\n",
    "    \n",
    "    X = csr_matrix((df[\"rating\"], (movie_index, user_index)), shape=(M, N))\n",
    "    return X, user_mapper, movie_mapper, user_inv_mapper, movie_inv_mapper"
   ]
  },
  {
   "cell_type": "markdown",
   "id": "b6bd6f3e-f1ee-46b6-adac-bae9fe67c8d4",
   "metadata": {},
   "source": [
    "## Function to find similar movies using KNN"
   ]
  },
  {
   "cell_type": "code",
   "execution_count": 9,
   "id": "67f339ff-c9ae-4977-8e41-86af840138c0",
   "metadata": {},
   "outputs": [],
   "source": [
    "def find_similar_movies(movie_id, X, k, metric='cosine', show_distance=False):\n",
    "    neighbour_ids = []\n",
    "    movie_ind = movie_mapper[movie_id]\n",
    "    movie_vec = X[movie_ind]\n",
    "    k+=1\n",
    "    kNN = NearestNeighbors(n_neighbors=k, algorithm=\"brute\", metric=metric)\n",
    "    kNN.fit(X)\n",
    "    movie_vec = movie_vec.reshape(1,-1)\n",
    "    neighbour = kNN.kneighbors(movie_vec, return_distance=show_distance)\n",
    "    for i in range(0,k):\n",
    "        n = neighbour.item(i)\n",
    "        neighbour_ids.append(movie_inv_mapper[n])\n",
    "    neighbour_ids.pop(0)\n",
    "    return neighbour_ids"
   ]
  },
  {
   "cell_type": "markdown",
   "id": "f9849816-1982-4f24-b9c4-516f0691be51",
   "metadata": {},
   "source": [
    "## Function to recommend movies for a user based on their preferences"
   ]
  },
  {
   "cell_type": "code",
   "execution_count": 20,
   "id": "871dfff7-529a-4e71-a091-e7e2ce2fb3b3",
   "metadata": {},
   "outputs": [],
   "source": [
    "def recommend_movies_for_movie(movie_title):  # Added function to recommend movies based on user-input movie title\n",
    "    movie = movies[movies['title'].str.contains(movie_title, case=False)]  # Search movies containing the user-input movie title\n",
    "    if movie.empty:\n",
    "        print(f\"No movies found containing '{movie_title}'. Please try again.\")  # Display error message if no matching movie found\n",
    "        return\n",
    "    \n",
    "    movie_id = movie.iloc[0]['movieId']\n",
    "    movie_titles = dict(zip(movies['movieId'], movies['title']))\n",
    "    similar_ids = find_similar_movies(movie_id, X, k=10)\n",
    "    movie_title = movie_titles.get(movie_id, \"Movie not found\")\n",
    "    if movie_title == \"Movie not found\":\n",
    "        print(f\"Movie with ID {movie_id} not found.\")\n",
    "        return\n",
    "\n",
    "    recommendation_message = f\"Since you watched {movie_title}, you might also like:\\n\"\n",
    "    for i in similar_ids:\n",
    "        recommendation_message += movie_titles.get(i, \"Movie not found\") + \"\\n\"\n",
    "    \n",
    "    print(recommendation_message)"
   ]
  },
  {
   "cell_type": "markdown",
   "id": "9ec9522a-876f-4b81-9905-f2cfbb417653",
   "metadata": {},
   "source": [
    "## Load the datasets"
   ]
  },
  {
   "cell_type": "code",
   "execution_count": null,
   "id": "5154a025-d0f2-42da-ba79-2fdc0e3707db",
   "metadata": {},
   "outputs": [],
   "source": [
    "ratings = pd.read_csv(\"https://s3-us-west-2.amazonaws.com/recommender-tutorial/ratings.csv\")\n",
    "movies = pd.read_csv(\"https://s3-us-west-2.amazonaws.com/recommender-tutorial/movies.csv\")"
   ]
  },
  {
   "cell_type": "markdown",
   "id": "43c375bf-1dac-4dcd-b2aa-34ed9e695662",
   "metadata": {},
   "source": [
    "## Create user-item matrix"
   ]
  },
  {
   "cell_type": "code",
   "execution_count": null,
   "id": "65b54b23-32d3-463f-bcfe-006e6b4677f5",
   "metadata": {},
   "outputs": [],
   "source": [
    "X, user_mapper, movie_mapper, user_inv_mapper, movie_inv_mapper = create_matrix(ratings)"
   ]
  },
  {
   "cell_type": "markdown",
   "id": "5a8ce5bd-ce84-4b2b-8bf2-6a3671d143eb",
   "metadata": {},
   "source": [
    "## Recommend movies for a specific user"
   ]
  },
  {
   "cell_type": "code",
   "execution_count": null,
   "id": "6fa1885c-9b85-4e61-838d-7e23569fdf2c",
   "metadata": {},
   "outputs": [],
   "source": [
    "movie_title = input(\"Enter a movie title: \")  # Prompt user to input a movie title\n",
    "recommend_movies_for_movie(movie_title)  # Call the function to recommend movies based on user-input movie title"
   ]
  },
  {
   "cell_type": "code",
   "execution_count": null,
   "id": "9a75cc66-d4d0-4cdb-89af-ac5525c97ad6",
   "metadata": {},
   "outputs": [],
   "source": []
  }
 ],
 "metadata": {
  "kernelspec": {
   "display_name": "Python 3 (ipykernel)",
   "language": "python",
   "name": "python3"
  },
  "language_info": {
   "codemirror_mode": {
    "name": "ipython",
    "version": 3
   },
   "file_extension": ".py",
   "mimetype": "text/x-python",
   "name": "python",
   "nbconvert_exporter": "python",
   "pygments_lexer": "ipython3",
   "version": "3.11.4"
  }
 },
 "nbformat": 4,
 "nbformat_minor": 5
}
